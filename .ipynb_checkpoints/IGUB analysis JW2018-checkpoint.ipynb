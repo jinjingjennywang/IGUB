{
 "cells": [
  {
   "cell_type": "markdown",
   "metadata": {},
   "source": [
    "analyze the original IGUB dataset\n",
    "\n",
    "-difference in difficulty in different questions?\n",
    "\n",
    "-relationship between uncertainty/performance and learning choice?"
   ]
  },
  {
   "cell_type": "code",
   "execution_count": 1,
   "metadata": {},
   "outputs": [],
   "source": [
    "import pandas as pd\n",
    "#import matplotlib as plt\n",
    "#plt=__import__(\"matplotlib.pyplot\")\n",
    "import matplotlib.pyplot as plt\n",
    "\n",
    "import numpy as np\n",
    "import scipy\n",
    "import scipy.stats as stats\n",
    "import random\n",
    "mydata = pd.read_csv(\"IGUB_long_data.csv\")\n",
    "sdata = pd.read_csv('IGUB_short_data.csv')\n",
    "sdata=sdata.assign(psy_T=(sdata['testing choice']=='tummy'))"
   ]
  },
  {
   "cell_type": "markdown",
   "metadata": {},
   "source": [
    "analyze short version, difference between explanation and prediction conditions"
   ]
  },
  {
   "cell_type": "markdown",
   "metadata": {},
   "source": [
    "\n",
    "\n",
    "sdata['psycho'].hist(by=sdata['condition2'])\n",
    "\n",
    "pd.crosstab(sdata.psycho,sdata.condition2)"
   ]
  },
  {
   "cell_type": "code",
   "execution_count": 2,
   "metadata": {},
   "outputs": [
    {
     "data": {
      "text/plain": [
       "array([<matplotlib.axes._subplots.AxesSubplot object at 0x1a17bd9a90>,\n",
       "       <matplotlib.axes._subplots.AxesSubplot object at 0x1a17c15160>],\n",
       "      dtype=object)"
      ]
     },
     "execution_count": 2,
     "metadata": {},
     "output_type": "execute_result"
    },
    {
     "data": {
      "image/png": "[encoded data removed]",
      "text/plain": [
       "<Figure size 432x288 with 2 Axes>"
      ]
     },
     "metadata": {},
     "output_type": "display_data"
    },
    {
     "data": {
      "image/png": "[encoded data removed]",
      "text/plain": [
       "<Figure size 432x288 with 2 Axes>"
      ]
     },
     "metadata": {},
     "output_type": "display_data"
    }
   ],
   "source": [
    "sdata[sdata.psy_T==1].psycho.hist(by=sdata['condition2'])\n",
    "sdata[sdata.psy_T==0].psycho.hist(by=sdata['condition2'])"
   ]
  },
  {
   "cell_type": "code",
   "execution_count": 3,
   "metadata": {},
   "outputs": [
    {
     "data": {
      "text/html": [
       "<div>\n",
       "<style scoped>\n",
       "    .dataframe tbody tr th:only-of-type {\n",
       "        vertical-align: middle;\n",
       "    }\n",
       "\n",
       "    .dataframe tbody tr th {\n",
       "        vertical-align: top;\n",
       "    }\n",
       "\n",
       "    .dataframe thead th {\n",
       "        text-align: right;\n",
       "    }\n",
       "</style>\n",
       "<table border=\"1\" class=\"dataframe\">\n",
       "  <thead>\n",
       "    <tr style=\"text-align: right;\">\n",
       "      <th>condition2</th>\n",
       "      <th>explanation</th>\n",
       "      <th>prediction</th>\n",
       "      <th>uc</th>\n",
       "    </tr>\n",
       "    <tr>\n",
       "      <th>psycho</th>\n",
       "      <th></th>\n",
       "      <th></th>\n",
       "      <th></th>\n",
       "    </tr>\n",
       "  </thead>\n",
       "  <tbody>\n",
       "    <tr>\n",
       "      <th>0</th>\n",
       "      <td>4</td>\n",
       "      <td>4</td>\n",
       "      <td>0</td>\n",
       "    </tr>\n",
       "    <tr>\n",
       "      <th>1</th>\n",
       "      <td>4</td>\n",
       "      <td>3</td>\n",
       "      <td>0</td>\n",
       "    </tr>\n",
       "    <tr>\n",
       "      <th>2</th>\n",
       "      <td>3</td>\n",
       "      <td>2</td>\n",
       "      <td>1</td>\n",
       "    </tr>\n",
       "    <tr>\n",
       "      <th>3</th>\n",
       "      <td>2</td>\n",
       "      <td>4</td>\n",
       "      <td>1</td>\n",
       "    </tr>\n",
       "    <tr>\n",
       "      <th>4</th>\n",
       "      <td>2</td>\n",
       "      <td>3</td>\n",
       "      <td>1</td>\n",
       "    </tr>\n",
       "    <tr>\n",
       "      <th>5</th>\n",
       "      <td>4</td>\n",
       "      <td>3</td>\n",
       "      <td>2</td>\n",
       "    </tr>\n",
       "    <tr>\n",
       "      <th>6</th>\n",
       "      <td>2</td>\n",
       "      <td>3</td>\n",
       "      <td>2</td>\n",
       "    </tr>\n",
       "  </tbody>\n",
       "</table>\n",
       "</div>"
      ],
      "text/plain": [
       "condition2  explanation  prediction  uc\n",
       "psycho                                 \n",
       "0                     4           4   0\n",
       "1                     4           3   0\n",
       "2                     3           2   1\n",
       "3                     2           4   1\n",
       "4                     2           3   1\n",
       "5                     4           3   2\n",
       "6                     2           3   2"
      ]
     },
     "execution_count": 3,
     "metadata": {},
     "output_type": "execute_result"
    }
   ],
   "source": [
    "psy_ep=pd.DataFrame(pd.crosstab(sdata[sdata.psy_T==1].psycho,sdata[sdata.psy_T==1].condition2))\n",
    "psy_ep=psy_ep.assign(uc=[0,0,1,1,1,2,2])\n",
    "psy_all=pd.DataFrame(pd.crosstab(sdata.psycho,sdata.condition2))\n",
    "psy_all=psy_all.assign(uc=[0,0,1,1,1,2,2])\n",
    "\n",
    "psy_ep1=psy_ep.groupby('uc').agg('sum')/psy_all.groupby('uc').agg('sum')\n",
    "psy_all"
   ]
  },
  {
   "cell_type": "code",
   "execution_count": 4,
   "metadata": {},
   "outputs": [
    {
     "data": {
      "image/png": "[encoded data removed]",
      "text/plain": [
       "<Figure size 432x288 with 1 Axes>"
      ]
     },
     "metadata": {},
     "output_type": "display_data"
    }
   ],
   "source": [
    "n_groups = 3\n",
    "\n",
    "means_e = psy_ep1['explanation']\n",
    "means_p = psy_ep1['prediction']\n",
    "\n",
    "fig, ax = plt.subplots()\n",
    "\n",
    "index = np.arange(n_groups)\n",
    "bar_width = 0.2\n",
    "\n",
    "opacity = 0.4\n",
    "error_config = {'ecolor': '0.3'}\n",
    "\n",
    "\n",
    "rects1 = ax.bar(index, means_e, bar_width,\n",
    "                alpha=opacity, color='y',\n",
    "                label='explanation')\n",
    "rects2 = ax.bar(index + bar_width, means_p, bar_width,\n",
    "                alpha=opacity, color='c',\n",
    "                label='prediction')\n",
    "\n",
    "ax.set_xlabel('pretest question #')\n",
    "ax.set_ylabel('post test choice')\n",
    "ax.set_title('short version choice pattern by pretest')\n",
    "ax.set_xticks(index + bar_width / 2)\n",
    "ax.set_xticklabels(('certain wrong','uncertain','certain right'))\n",
    "ax.set_ylim([0, 1])\n",
    "ax.legend()\n",
    "\n",
    "fig.tight_layout()\n",
    "plt.show()"
   ]
  },
  {
   "cell_type": "code",
   "execution_count": 5,
   "metadata": {},
   "outputs": [
    {
     "data": {
      "text/html": [
       "<div>\n",
       "<style scoped>\n",
       "    .dataframe tbody tr th:only-of-type {\n",
       "        vertical-align: middle;\n",
       "    }\n",
       "\n",
       "    .dataframe tbody tr th {\n",
       "        vertical-align: top;\n",
       "    }\n",
       "\n",
       "    .dataframe thead th {\n",
       "        text-align: right;\n",
       "    }\n",
       "</style>\n",
       "<table border=\"1\" class=\"dataframe\">\n",
       "  <thead>\n",
       "    <tr style=\"text-align: right;\">\n",
       "      <th></th>\n",
       "      <th>count</th>\n",
       "      <th>mean</th>\n",
       "      <th>std</th>\n",
       "      <th>min</th>\n",
       "      <th>25%</th>\n",
       "      <th>50%</th>\n",
       "      <th>75%</th>\n",
       "      <th>max</th>\n",
       "    </tr>\n",
       "    <tr>\n",
       "      <th>condition2</th>\n",
       "      <th></th>\n",
       "      <th></th>\n",
       "      <th></th>\n",
       "      <th></th>\n",
       "      <th></th>\n",
       "      <th></th>\n",
       "      <th></th>\n",
       "      <th></th>\n",
       "    </tr>\n",
       "  </thead>\n",
       "  <tbody>\n",
       "    <tr>\n",
       "      <th>explanation</th>\n",
       "      <td>21.0</td>\n",
       "      <td>2.666667</td>\n",
       "      <td>2.105548</td>\n",
       "      <td>0.0</td>\n",
       "      <td>1.0</td>\n",
       "      <td>2.0</td>\n",
       "      <td>5.00</td>\n",
       "      <td>6.0</td>\n",
       "    </tr>\n",
       "    <tr>\n",
       "      <th>prediction</th>\n",
       "      <td>22.0</td>\n",
       "      <td>2.909091</td>\n",
       "      <td>2.091003</td>\n",
       "      <td>0.0</td>\n",
       "      <td>1.0</td>\n",
       "      <td>3.0</td>\n",
       "      <td>4.75</td>\n",
       "      <td>6.0</td>\n",
       "    </tr>\n",
       "  </tbody>\n",
       "</table>\n",
       "</div>"
      ],
      "text/plain": [
       "             count      mean       std  min  25%  50%   75%  max\n",
       "condition2                                                      \n",
       "explanation   21.0  2.666667  2.105548  0.0  1.0  2.0  5.00  6.0\n",
       "prediction    22.0  2.909091  2.091003  0.0  1.0  3.0  4.75  6.0"
      ]
     },
     "execution_count": 5,
     "metadata": {},
     "output_type": "execute_result"
    }
   ],
   "source": [
    "sdata.groupby('condition2').describe()['psycho']"
   ]
  },
  {
   "cell_type": "code",
   "execution_count": 6,
   "metadata": {},
   "outputs": [
    {
     "data": {
      "text/plain": [
       "(1.5299525870954445, 0.9574801409155138, 6, array([[3.90697674, 4.09302326],\n",
       "        [3.41860465, 3.58139535],\n",
       "        [2.44186047, 2.55813953],\n",
       "        [2.93023256, 3.06976744],\n",
       "        [2.44186047, 2.55813953],\n",
       "        [3.41860465, 3.58139535],\n",
       "        [2.44186047, 2.55813953]]))"
      ]
     },
     "execution_count": 6,
     "metadata": {},
     "output_type": "execute_result"
    }
   ],
   "source": [
    "#no difference between explanation and prediction\n",
    "stats.chi2_contingency(pd.crosstab(sdata.psycho,sdata.condition2))"
   ]
  },
  {
   "cell_type": "markdown",
   "metadata": {},
   "source": [
    "below is long version analysis"
   ]
  },
  {
   "cell_type": "code",
   "execution_count": 9,
   "metadata": {
    "scrolled": false
   },
   "outputs": [],
   "source": [
    "mydata.columns = mydata.columns.str.replace(\"-\",\"_\")\n",
    "mydata=mydata.loc[0:58,:] \n",
    "#mydata.shape\n",
    "mydata.ToM = (mydata.ToM=='table')\n",
    "mydata.Germ=(mydata.Germ=='temp')\n",
    "mydata.Psycho=(mydata.Psycho=='phone(tummy)')"
   ]
  },
  {
   "cell_type": "code",
   "execution_count": null,
   "metadata": {},
   "outputs": [],
   "source": [
    "ToM0=pd.DataFrame(pd.crosstab(mydata.ToM_ass_T,mydata.ToM))\n",
    "ToM0=ToM0.assign(uc=[0,0,1,1,1,2,2])\n",
    "mean_ToM0=ToM0.groupby('uc').agg('sum')[1]/(ToM0.groupby('uc').agg('sum')[1]+ToM0.groupby('uc').agg('sum')[0])\n",
    "\n",
    "germ0=pd.DataFrame(pd.crosstab(mydata.Germ_ass_T,mydata.Germ))\n",
    "germ0=germ0.assign(uc=[0,0,1,1,1,2,2])\n",
    "mean_germ0=germ0.groupby('uc').agg('sum')[1]/(germ0.groupby('uc').agg('sum')[1]+germ0.groupby('uc').agg('sum')[0])\n",
    "\n",
    "psy0=pd.DataFrame(pd.crosstab(mydata.Psych_ass_T,mydata.Psycho))\n",
    "psy0=psy0.assign(uc=[0,0,1,1,1,2,2])\n",
    "mean_psy0=psy0.groupby('uc').agg('sum')[1]/(psy0.groupby('uc').agg('sum')[1]+psy0.groupby('uc').agg('sum')[0])\n",
    "\n",
    "mean_germ0"
   ]
  },
  {
   "cell_type": "code",
   "execution_count": null,
   "metadata": {},
   "outputs": [],
   "source": [
    "n_groups = 3\n",
    "\n",
    "fig, ax = plt.subplots()\n",
    "\n",
    "index = np.arange(n_groups)\n",
    "bar_width = 0.2\n",
    "\n",
    "opacity = 0.4\n",
    "error_config = {'ecolor': '0.3'}\n",
    "\n",
    "\n",
    "rects1 = ax.bar(index, mean_ToM0, bar_width,\n",
    "                alpha=opacity, color='b',\n",
    "                label='ToM')\n",
    "rects2 = ax.bar(index + bar_width, mean_germ0, bar_width,\n",
    "                alpha=opacity, color='r',\n",
    "                label='germ')\n",
    "rects3 = ax.bar(index + bar_width*2, mean_psy0, bar_width,\n",
    "                alpha=opacity, color='g',\n",
    "                label='psy')\n",
    "\n",
    "ax.set_xlabel('pretest question #')\n",
    "ax.set_ylabel('post test choice')\n",
    "ax.set_title('long version choice pattern by pretest')\n",
    "ax.set_xticks(index + bar_width / 2)\n",
    "ax.set_xticklabels(('certain wrong','uncertain','certain right'))\n",
    "ax.set_ylim([0, 1])\n",
    "ax.legend()\n",
    "\n",
    "fig.tight_layout()\n",
    "plt.show()"
   ]
  },
  {
   "cell_type": "markdown",
   "metadata": {},
   "source": [
    "checking if there are significant difference between items in pretest"
   ]
  },
  {
   "cell_type": "code",
   "execution_count": null,
   "metadata": {},
   "outputs": [],
   "source": [
    "stats.chi2_contingency(pd.crosstab(mydata.ToM_ass4, mydata.ToM_ass5))\n",
    "stats.chi2_contingency(pd.crosstab(mydata.germ_Dana, mydata.germ_Riley))"
   ]
  },
  {
   "cell_type": "code",
   "execution_count": null,
   "metadata": {},
   "outputs": [],
   "source": [
    "mydata.loc[:,'germ_Chris':'psy_Blake']=1*(mydata.loc[:,'germ_Chris':'psy_Blake']=='y')"
   ]
  },
  {
   "cell_type": "code",
   "execution_count": null,
   "metadata": {},
   "outputs": [],
   "source": [
    "cordata=mydata.loc[:, 'ToM_ass1':'ToM_ass6']\n",
    "cordata.corr()"
   ]
  },
  {
   "cell_type": "code",
   "execution_count": null,
   "metadata": {},
   "outputs": [],
   "source": [
    "cordata=mydata.loc[:, 'germ_Chris':'germ_Andy']\n",
    "cordata.corr()\n",
    "from scipy.stats import pearsonr\n",
    "pearsonr(mydata.loc[:, 'ToM_ass3'],mydata.loc[:, 'ToM_ass5'])"
   ]
  },
  {
   "cell_type": "code",
   "execution_count": null,
   "metadata": {},
   "outputs": [],
   "source": [
    "n_groups = 6\n",
    "\n",
    "means_ToM = mydata.loc[:,'ToM_ass1':'ToM_ass6'].mean(0)\n",
    "    #se_ToM = mydata.loc[:,'ToM_ass1':'ToM_ass6'].std(0)/np.sqrt(59)\n",
    "means_germ = mydata.loc[:,'germ_Chris':'germ_Andy'].mean(0)\n",
    "means_psy = mydata.loc[:,'psy_Charlie':'psy_Blake'].mean(0)\n",
    "\n",
    "fig, ax = plt.subplots()\n",
    "\n",
    "index = np.arange(n_groups)\n",
    "bar_width = 0.2\n",
    "\n",
    "opacity = 0.4\n",
    "error_config = {'ecolor': '0.3'}\n",
    "\n",
    "rects1 = ax.bar(index, means_ToM, bar_width,\n",
    "                alpha=opacity, color='b',\n",
    "                #yerr=se_ToM, error_kw=error_config,\n",
    "                label='ToM')\n",
    "rects2 = ax.bar(index + bar_width, means_germ, bar_width,\n",
    "                alpha=opacity, color='r',\n",
    "                label='germ')\n",
    "rects2 = ax.bar(index + bar_width*2, means_psy, bar_width,\n",
    "                alpha=opacity, color='g',\n",
    "                label='psych')\n",
    "\n",
    "ax.set_xlabel('pretest question #')\n",
    "ax.set_ylabel('accuracy')\n",
    "ax.set_title('item analysis of pretest')\n",
    "ax.set_xticks(index + bar_width / 2)\n",
    "ax.set_xticklabels(('self/crayon', 'other/crayon', 'self/band', 'other/band', 'Sally-Ann','belief-emo'))\n",
    "ax.set_ylim([0, 1])\n",
    "ax.legend()\n",
    "\n",
    "fig.tight_layout()\n",
    "plt.show()"
   ]
  },
  {
   "cell_type": "code",
   "execution_count": null,
   "metadata": {},
   "outputs": [],
   "source": []
  },
  {
   "cell_type": "code",
   "execution_count": null,
   "metadata": {},
   "outputs": [],
   "source": [
    "n_groups = 1\n",
    "\n",
    "means_ToM1 = mydata.ToM.mean(0)\n",
    "means_germ1 = mydata.Germ.mean(0)\n",
    "means_psy1 = mydata.Psycho.mean(0)\n",
    "\n",
    "fig, ax = plt.subplots()\n",
    "\n",
    "index = np.arange(n_groups)\n",
    "bar_width = 0.2\n",
    "\n",
    "opacity = 0.4\n",
    "error_config = {'ecolor': '0.3'}\n",
    "\n",
    "rects1 = ax.bar(index, means_ToM1, bar_width,\n",
    "                alpha=opacity, color='b',\n",
    "                #yerr=se_ToM, error_kw=error_config,\n",
    "                label='ToM')\n",
    "rects2 = ax.bar(index + bar_width*2, means_germ1, bar_width,\n",
    "                alpha=opacity, color='r',\n",
    "                label='germ')\n",
    "rects2 = ax.bar(index + bar_width*4, means_psy1, bar_width,\n",
    "                alpha=opacity, color='g',\n",
    "                label='psych')\n",
    "\n",
    "ax.set_xlabel('')\n",
    "ax.set_ylabel('%domain')\n",
    "ax.set_title('posttest choose domain')\n",
    "ax.set_xticks(index + bar_width / 2)\n",
    "ax.set_xticklabels('')\n",
    "ax.set_ylim([0, 1])\n",
    "ax.legend()\n",
    "\n",
    "fig.tight_layout()\n",
    "plt.show()"
   ]
  },
  {
   "cell_type": "markdown",
   "metadata": {},
   "source": [
    "The above two graphs showed that:\n",
    "1)children find the pre-test germ questions easier than psy, both easier than ToM\n",
    "2)children were more likely to choose in-domain follow-up in germ compared to the rest\n",
    "\n",
    "Does this mean better performance lead to more information seeking??? (skip below to see additional analysis)"
   ]
  },
  {
   "cell_type": "markdown",
   "metadata": {},
   "source": [
    "Checking distribution of answers based on all pre-test items.\n",
    "It appears that the distribution is super un-even across different domains."
   ]
  },
  {
   "cell_type": "code",
   "execution_count": null,
   "metadata": {},
   "outputs": [],
   "source": [
    "means_ToM2 = mydata.loc[:,'ToM_ass1':'ToM_ass6'].mean(1)\n",
    "means_germ2 = mydata.loc[:,'germ_Chris':'germ_Andy'].mean(1)\n",
    "means_psy2 = mydata.loc[:,'psy_Charlie':'psy_Blake'].mean(1)\n",
    "#pd.crosstab(means_ToM2,means_germ2)"
   ]
  },
  {
   "cell_type": "code",
   "execution_count": null,
   "metadata": {
    "scrolled": true
   },
   "outputs": [],
   "source": [
    "plt.hist(means_ToM2, bins=[0,0.34,0.83,1],color='b',alpha=0.7, rwidth = 0.2)\n",
    "plt.hist(means_germ2+0.2, bins=[0.2,0.54,1.03,1.2],color='r',alpha=0.5, rwidth = 0.2)\n",
    "plt.hist(means_psy2+0.4, bins=[0.4,0.74,1.23,1.4],color='g',alpha=0.3, rwidth = 0.2)"
   ]
  },
  {
   "cell_type": "markdown",
   "metadata": {},
   "source": [
    "What about only analyzing the highest performing questions? Maybe there's something weird going on with the ToM questions...?\n",
    "Distribution slightly more even?"
   ]
  },
  {
   "cell_type": "code",
   "execution_count": null,
   "metadata": {},
   "outputs": [],
   "source": [
    "means_ToM3 = mydata.loc[:,'ToM_ass5':'ToM_ass6'].mean(1)\n",
    "means_germ3 = mydata.loc[:,'germ_Jordan':'germ_Andy'].mean(1)\n",
    "means_psy3 = mydata.loc[:,'psy_Ari':'psy_Blake'].mean(1)"
   ]
  },
  {
   "cell_type": "code",
   "execution_count": null,
   "metadata": {
    "scrolled": false
   },
   "outputs": [],
   "source": [
    "plt.hist(means_ToM3, bins=[0,0.25,0.8,1],color='b',alpha=0.7, rwidth = 0.2)\n",
    "plt.hist(means_germ3, bins=[0,0.25,0.8,1],color='r',alpha=0.5, rwidth = 0.3)\n",
    "plt.hist(means_psy3, bins=[0,0.25,0.8,1],color='g',alpha=0.3, rwidth = 0.4)"
   ]
  },
  {
   "cell_type": "markdown",
   "metadata": {},
   "source": [
    "Based on only the higher-performing ToM items and corresponding germ and psy items, re-analyzed performance pattern for post-test\n",
    "\n",
    "plotting \"what percentage of kids in each performance group in each domain selected the domain-relevant option\""
   ]
  },
  {
   "cell_type": "code",
   "execution_count": null,
   "metadata": {},
   "outputs": [],
   "source": [
    "mydata=mydata.assign(ToM3=means_ToM3,germ3=means_germ3,psy3=means_psy3)\n",
    "df = mydata.loc[:,('ToM','ToM3','Germ','germ3','Psycho','psy3')]\n",
    "means_ToM4=pd.DataFrame(pd.crosstab(mydata.ToM,mydata.ToM3)/mydata.groupby('ToM3').size()).iloc[1]\n",
    "means_germ4=pd.DataFrame(pd.crosstab(mydata.Germ,mydata.germ3)/mydata.groupby('germ3').size()).iloc[1]\n",
    "means_psy4=pd.DataFrame(pd.crosstab(mydata.Psycho,mydata.psy3)/mydata.groupby('psy3').size()).iloc[1]"
   ]
  },
  {
   "cell_type": "code",
   "execution_count": null,
   "metadata": {
    "scrolled": false
   },
   "outputs": [],
   "source": [
    "n_groups = 3\n",
    "\n",
    "fig, ax = plt.subplots()\n",
    "\n",
    "index = np.arange(n_groups)\n",
    "bar_width = 0.2\n",
    "\n",
    "opacity = 0.4\n",
    "error_config = {'ecolor': '0.3'}\n",
    "\n",
    "rects1 = ax.bar(index, means_ToM4, bar_width,\n",
    "                alpha=opacity, color='b',\n",
    "                label='ToM')\n",
    "rects2 = ax.bar(index + bar_width, means_germ4, bar_width,\n",
    "                alpha=opacity, color='r',\n",
    "                label='germ')\n",
    "rects2 = ax.bar(index + bar_width*2, means_psy4, bar_width,\n",
    "                alpha=opacity, color='g',\n",
    "                label='psych')\n",
    "\n",
    "ax.set_xlabel('')\n",
    "ax.set_ylabel('%domain')\n",
    "ax.set_title('posttest choose domain')\n",
    "ax.set_xticks(index + bar_width / 2)\n",
    "ax.set_xticklabels(('certain false','uncertain','certain true'))\n",
    "ax.set_ylim([0, 1])\n",
    "ax.legend()\n",
    "\n",
    "fig.tight_layout()\n",
    "plt.show()"
   ]
  },
  {
   "cell_type": "markdown",
   "metadata": {},
   "source": [
    "plotting \"what percentage of kids choosing the domain-relevant option came from each pre-test group, for each domain\""
   ]
  },
  {
   "cell_type": "markdown",
   "metadata": {},
   "source": [
    "mydata=mydata.assign(ToM3=means_ToM3,germ3=means_germ3,psy3=means_psy3)\n",
    "df = mydata.loc[:,('ToM','ToM3','Germ','germ3','Psycho','psy3')]\n",
    "means_ToM5=pd.DataFrame(pd.crosstab(mydata.ToM,mydata.ToM3).T/mydata.groupby('ToM').size())[1]\n",
    "means_germ5=pd.DataFrame(pd.crosstab(mydata.Germ,mydata.germ3).T/mydata.groupby('Germ').size())[1]\n",
    "means_psy5=pd.DataFrame(pd.crosstab(mydata.Psycho,mydata.psy3).T/mydata.groupby('Psycho').size())[1]\n",
    "mydata.groupby('ToM').size()"
   ]
  },
  {
   "cell_type": "markdown",
   "metadata": {},
   "source": [
    "n_groups = 3\n",
    "\n",
    "fig, ax = plt.subplots()\n",
    "\n",
    "index = np.arange(n_groups)\n",
    "bar_width = 0.2\n",
    "\n",
    "opacity = 0.4\n",
    "error_config = {'ecolor': '0.3'}\n",
    "\n",
    "rects1 = ax.bar(index, means_ToM5, bar_width,\n",
    "                alpha=opacity, color='b',\n",
    "                label='ToM')\n",
    "rects2 = ax.bar(index + bar_width, means_germ5, bar_width,\n",
    "                alpha=opacity, color='r',\n",
    "                label='germ')\n",
    "rects2 = ax.bar(index + bar_width*2, means_psy5, bar_width,\n",
    "                alpha=opacity, color='g',\n",
    "                label='psych')\n",
    "\n",
    "ax.set_xlabel('')\n",
    "ax.set_ylabel('%domain')\n",
    "ax.set_title('posttest choose domain')\n",
    "ax.set_xticks(index + bar_width / 2)\n",
    "ax.set_xticklabels(('certain false','uncertain','certain true'))\n",
    "ax.set_ylim([0, 1])\n",
    "ax.legend()\n",
    "\n",
    "fig.tight_layout()\n",
    "plt.show()"
   ]
  }
 ],
 "metadata": {
  "kernelspec": {
   "display_name": "Python 3",
   "language": "python",
   "name": "python3"
  },
  "language_info": {
   "codemirror_mode": {
    "name": "ipython",
    "version": 3
   },
   "file_extension": ".py",
   "mimetype": "text/x-python",
   "name": "python",
   "nbconvert_exporter": "python",
   "pygments_lexer": "ipython3",
   "version": "3.6.5"
  }
 },
 "nbformat": 4,
 "nbformat_minor": 2
}
